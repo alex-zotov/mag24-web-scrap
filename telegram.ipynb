{
 "cells": [
  {
   "cell_type": "code",
   "execution_count": null,
   "id": "39536ddb",
   "metadata": {},
   "outputs": [],
   "source": [
    "import telethon\n",
    "import telegram_key"
   ]
  },
  {
   "cell_type": "code",
   "execution_count": null,
   "id": "ddd50613",
   "metadata": {},
   "outputs": [],
   "source": [
    "# https://docs.telethon.dev/en/stable/basic/signing-in.html\n",
    "# логинимся на https://my.telegram.org/\n",
    "# регаем приложение API development tools https://my.telegram.org/apps\n",
    "# получаем API_ID API_HASH"
   ]
  }
 ],
 "metadata": {
  "kernelspec": {
   "display_name": ".venv",
   "language": "python",
   "name": "python3"
  },
  "language_info": {
   "codemirror_mode": {
    "name": "ipython",
    "version": 3
   },
   "file_extension": ".py",
   "mimetype": "text/x-python",
   "name": "python",
   "nbconvert_exporter": "python",
   "pygments_lexer": "ipython3",
   "version": "3.9.6"
  }
 },
 "nbformat": 4,
 "nbformat_minor": 5
}
