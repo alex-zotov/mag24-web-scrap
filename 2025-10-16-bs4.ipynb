{
 "cells": [
  {
   "cell_type": "code",
   "execution_count": 2,
   "id": "08181532",
   "metadata": {},
   "outputs": [
    {
     "name": "stderr",
     "output_type": "stream",
     "text": [
      "/Users/azot/study24/.venv/lib/python3.9/site-packages/urllib3/__init__.py:35: NotOpenSSLWarning: urllib3 v2 only supports OpenSSL 1.1.1+, currently the 'ssl' module is compiled with 'LibreSSL 2.8.3'. See: https://github.com/urllib3/urllib3/issues/3020\n",
      "  warnings.warn(\n"
     ]
    }
   ],
   "source": [
    "from bs4 import BeautifulSoup\n",
    "import requests"
   ]
  },
  {
   "cell_type": "code",
   "execution_count": null,
   "id": "ca7a60a2",
   "metadata": {},
   "outputs": [],
   "source": [
    "\n",
    "headers = {\n",
    "    \"User-Agent\" : \"Mozilla/5.0 (Macintosh; Intel Mac OS X 10_15_7) AppleWebKit/537.36 (KHTML, like Gecko) Chrome/140.0.0.0 Safari/537.36\"\n",
    "}\n",
    "\n",
    "## странички со списком новостей\n",
    "for p in range(1,2):\n",
    "    resp = requests.get(f'https://football24.ru/articles/page/{p}/',headers=headers)\n",
    "\n",
    "    assert resp.status_code == 200\n",
    "\n",
    "    root = BeautifulSoup(resp.text, 'html.parser')\n",
    "\n",
    "    root.find_all('h2', itemprop='headline')"
   ]
  },
  {
   "cell_type": "code",
   "execution_count": 3,
   "id": "3c2a4554",
   "metadata": {},
   "outputs": [],
   "source": [
    "headers = {\n",
    "    \"User-Agent\" : \"Mozilla/5.0 (Macintosh; Intel Mac OS X 10_15_7) AppleWebKit/537.36 (KHTML, like Gecko) Chrome/140.0.0.0 Safari/537.36\"\n",
    "}\n",
    "\n",
    "## странички со списком новостей\n",
    "resp = requests.get(f'https://football24.ru/articles/page/1/',headers=headers)\n",
    "\n",
    "assert resp.status_code == 200\n",
    "\n",
    "root = BeautifulSoup(resp.text, 'html.parser')"
   ]
  },
  {
   "cell_type": "code",
   "execution_count": null,
   "id": "0f5dde32",
   "metadata": {},
   "outputs": [
    {
     "data": {
      "text/plain": [
       "[<div class=\"post\">\n",
       " <h2 itemprop=\"headline\"><a class=\"nav-ajax\" href=\"https://football24.ru/articles/265745-rejting-rossijan-na-pereezd-v-evropu-sem-kandidatov-iz-rpl.html\">Рейтинг россиян на переезд в Европу. Семь кандидатов из РПЛ</a></h2>\n",
       " <time datetime=\"2025-10-16T10:40\" itemprop=\"datePublished\">Сегодня, 10:40</time><meta content=\"2025-10-16\" itemprop=\"dateModified\"/><a class=\"category\" href=\"https://football24.ru/articles/\" itemprop=\"articleSection\">Статьи</a>\n",
       " <p itemprop=\"description\">Мозг «Спартака», недооцененный актив «Краснодара» и вариант для «Атлетико» – золотое поколение.</p>\n",
       " </div>,\n",
       " <div class=\"post\">\n",
       " <h2 itemprop=\"headline\"><a class=\"nav-ajax\" href=\"https://football24.ru/articles/265646-dva-spartaka-v-rpl-pochti-realnost-neuzheli-v-pervoj-lige-rozhdaetsja-chudo.html\">Два «Спартака» в РПЛ – почти реальность. Неужели в Первой лиге рождается чудо?</a></h2>\n",
       " <time datetime=\"2025-10-15T10:50\" itemprop=\"datePublished\">Вчера, 10:50</time><meta content=\"2025-10-15\" itemprop=\"dateModified\"/><a class=\"category\" href=\"https://football24.ru/articles/\" itemprop=\"articleSection\">Статьи</a>\n",
       " <p itemprop=\"description\">Неожиданная альтернатива «Торпедо» и «Уралу».</p>\n",
       " </div>,\n",
       " <div class=\"post\">\n",
       " <h2 itemprop=\"headline\"><a class=\"nav-ajax\" href=\"https://football24.ru/articles/265547-dilemma-srdzhana-babicha-v-spartake-pljus-odin-nedovolnyj.html\">Дилемма Срджана Бабича. В «Спартаке» плюс один недовольный?</a></h2>\n",
       " <time datetime=\"2025-10-14T10:49\" itemprop=\"datePublished\">14 октября 2025, 10:49</time><meta content=\"2025-10-14\" itemprop=\"dateModified\"/><a class=\"category\" href=\"https://football24.ru/articles/\" itemprop=\"articleSection\">Статьи</a>\n",
       " <p itemprop=\"description\">Выбор Станковича ставит под угрозу сборную.</p>\n",
       " </div>,\n",
       " <div class=\"post\">\n",
       " <h2 itemprop=\"headline\"><a class=\"nav-ajax\" href=\"https://football24.ru/articles/265450-neozhidannaja-zvezda-rpl-terpel-unizhenija-v-zenite-teper-mstit-v-cska-beregis-bolivija.html\">Неожиданная звезда РПЛ: терпел унижения в «Зените», теперь мстит в ЦСКА. Берегись, Боливия?</a></h2>\n",
       " <time datetime=\"2025-10-13T10:56\" itemprop=\"datePublished\">13 октября 2025, 10:56</time><meta content=\"2025-10-13\" itemprop=\"dateModified\"/><a class=\"category\" href=\"https://football24.ru/articles/\" itemprop=\"articleSection\">Статьи</a>\n",
       " <p itemprop=\"description\">Круговой – теперь особенный.</p>\n",
       " </div>,\n",
       " <div class=\"post\">\n",
       " <h2 itemprop=\"headline\"><a class=\"nav-ajax\" href=\"https://football24.ru/articles/265367-kak-dela-u-nashih-v-sbornyh-pozor-ugalde-martins-popal-pod-razdachu-vinisius-pritersja-k-zvezde-zenita.html\">Как дела у «наших» в сборных: позор Угальде, Мартинс попал под раздачу, Винисиус притерся к звезде «Зенита»</a></h2>\n",
       " <time datetime=\"2025-10-12T11:47\" itemprop=\"datePublished\">12 октября 2025, 11:47</time><meta content=\"2025-10-12\" itemprop=\"dateModified\"/><a class=\"category\" href=\"https://football24.ru/articles/\" itemprop=\"articleSection\">Статьи</a>\n",
       " <p itemprop=\"description\">Черная полоса Сперцяна продолжается.</p>\n",
       " </div>,\n",
       " <div class=\"post\">\n",
       " <h2 itemprop=\"headline\"><a class=\"nav-ajax\" href=\"https://football24.ru/articles/265254-pjat-novyh-vospitannikov-krasnodara-kto-zatmit-slavu-spercjana-i-safonova.html\">Пять новых воспитанников «Краснодара». Кто затмит славу Сперцяна и Сафонова?</a></h2>\n",
       " <time datetime=\"2025-10-11T10:57\" itemprop=\"datePublished\">11 октября 2025, 10:57</time><meta content=\"2025-10-11\" itemprop=\"dateModified\"/><a class=\"category\" href=\"https://football24.ru/articles/\" itemprop=\"articleSection\">Статьи</a>\n",
       " <p itemprop=\"description\">Потенциальная угроза Кордобе, защитник под сборную и второй шанс для ветерана.</p>\n",
       " </div>,\n",
       " <div class=\"post\">\n",
       " <h2 itemprop=\"headline\"><a class=\"nav-ajax\" href=\"https://football24.ru/articles/265150-pjat-let-proshlo-vse-esche-ne-zvezdy-chto-stalo-s-luchshimi-molodymi-igrokami-rpl-2020.html\">Пять лет прошло – все еще не звезды. Что стало с лучшими молодыми игроками РПЛ-2020?</a></h2>\n",
       " <time datetime=\"2025-10-10T10:27\" itemprop=\"datePublished\">10 октября 2025, 10:27</time><meta content=\"2025-10-10\" itemprop=\"dateModified\"/><a class=\"category\" href=\"https://football24.ru/articles/\" itemprop=\"articleSection\">Статьи</a>\n",
       " <p itemprop=\"description\">Таланта ЦСКА сгубили травмы, участник Евро страдает в Самаре, мастер стандартов стал глубоко верующим.</p>\n",
       " </div>,\n",
       " <div class=\"post\">\n",
       " <h2 itemprop=\"headline\"><a class=\"nav-ajax\" href=\"https://football24.ru/articles/265051-u-cska-pritailas-zvezda-bez-potolka-naskolko-vysoko-prygnet-popolitov.html\">У ЦСКА притаилась звезда без потолка. Насколько высоко прыгнет Пополитов?</a></h2>\n",
       " <time datetime=\"2025-10-09T11:36\" itemprop=\"datePublished\">9 октября 2025, 11:36</time><meta content=\"2025-10-09\" itemprop=\"dateModified\"/><a class=\"category\" href=\"https://football24.ru/articles/\" itemprop=\"articleSection\">Статьи</a>\n",
       " <p itemprop=\"description\">В «Спартаке» просмотрели юного гения.</p>\n",
       " </div>,\n",
       " <div class=\"post\">\n",
       " <h2 itemprop=\"headline\"><a class=\"nav-ajax\" href=\"https://football24.ru/articles/264955-kuda-razedutsja-zvezdy-spartaka-zamah-maksimenko-na-velichie-livaja-proverit-advokat-reabilitacija-rjabchuka.html\">Куда разъедутся звезды «Спартака»: замах Максименко на величие, Ливая проверит Адвокат, реабилитация Рябчука</a></h2>\n",
       " <time datetime=\"2025-10-08T11:30\" itemprop=\"datePublished\">8 октября 2025, 11:30</time><meta content=\"2025-10-08\" itemprop=\"dateModified\"/><a class=\"category\" href=\"https://football24.ru/articles/\" itemprop=\"articleSection\">Статьи</a>\n",
       " <p itemprop=\"description\">Джику и Бонгонда готовят вечеринку.</p>\n",
       " </div>,\n",
       " <div class=\"post\">\n",
       " <h2 itemprop=\"headline\"><a class=\"nav-ajax\" href=\"https://football24.ru/articles/264857-vina-maksimenko-vremja-otmenit-var-semaku-pora-uhodit-opravdanie-karpina-shest-vyvodov-ponomareva-po-rpl.html\">Вина Максименко, время отменить VAR, Семаку пора уходить, оправдание Карпина. Шесть выводов Пономарева по РПЛ</a></h2>\n",
       " <time datetime=\"2025-10-07T11:39\" itemprop=\"datePublished\">7 октября 2025, 11:39</time><meta content=\"2025-10-07\" itemprop=\"dateModified\"/><a class=\"category\" href=\"https://football24.ru/articles/\" itemprop=\"articleSection\">Статьи</a>\n",
       " <p itemprop=\"description\">Ветеран ЦСКА в эксклюзивном интервью Football24.ru разобрал предварительные итоги чемпионата.</p>\n",
       " </div>,\n",
       " <div class=\"post\">\n",
       " <h2 itemprop=\"headline\"><a class=\"nav-ajax\" href=\"https://football24.ru/articles/264753-glavnye-sobytija-11-go-tura-rpl-absurd-spartaka-novaja-otstavka-tenevoj-pretendent-na-medali.html\">Главные события 11-го тура РПЛ: абсурд «Спартака», новая отставка, теневой претендент на медали</a></h2>\n",
       " <time datetime=\"2025-10-06T10:10\" itemprop=\"datePublished\">6 октября 2025, 10:10</time><meta content=\"2025-10-06\" itemprop=\"dateModified\"/><a class=\"category\" href=\"https://football24.ru/articles/\" itemprop=\"articleSection\">Статьи</a>\n",
       " <p itemprop=\"description\">Неожиданность – Сперцян считает зубы после конфликта.</p>\n",
       " </div>,\n",
       " <div class=\"post\">\n",
       " <h2 itemprop=\"headline\"><a class=\"nav-ajax\" href=\"https://football24.ru/articles/264723-ocenki-vsem-futbolistam-v-matche-cska-spartak-kto-voshel-v-trojku-hudshih.html\">Оценки всем футболистам в матче ЦСКА – «Спартак». Кто вошел в тройку худших?</a></h2>\n",
       " <time datetime=\"2025-10-05T21:41\" itemprop=\"datePublished\">5 октября 2025, 21:41</time><meta content=\"2025-10-05\" itemprop=\"dateModified\"/><a class=\"category\" href=\"https://football24.ru/articles/\" itemprop=\"articleSection\">Статьи</a>\n",
       " <p itemprop=\"description\">Антигерой в обороне, анализ Максименко, скрытый мотор армейцев – разобрали всех.</p>\n",
       " </div>,\n",
       " <div class=\"post\">\n",
       " <h2 itemprop=\"headline\"><a class=\"nav-ajax\" href=\"https://football24.ru/articles/264505-vosem-intrig-11-go-tura-rpl-dva-chernyh-ishoda-dlja-stankovicha-zamah-karpin-na-titul-cherchesov-proverit-sterzhen-musaeva.html\">Восемь интриг 11-го тура РПЛ: два черных исхода для Станковича, замах Карпина на титул, Черчесов проверит стержень Мусаева</a></h2>\n",
       " <time datetime=\"2025-10-04T02:10\" itemprop=\"datePublished\">4 октября 2025, 02:10</time><meta content=\"2025-10-04\" itemprop=\"dateModified\"/><a class=\"category\" href=\"https://football24.ru/articles/\" itemprop=\"articleSection\">Статьи</a>\n",
       " <p itemprop=\"description\">Главная звезда РПЛ воскресла?</p>\n",
       " </div>,\n",
       " <div class=\"post\">\n",
       " <h2 itemprop=\"headline\"><a class=\"nav-ajax\" href=\"https://football24.ru/articles/264419-nader-gandri-novyj-osobennyj-igrok-v-rpl-neuzheli-razdavit-i-dzhona-kordobu.html\">Надер Гандри – новый особенный игрок в РПЛ. Неужели раздавит и Джона Кордобу?</a></h2>\n",
       " <time datetime=\"2025-10-03T11:14\" itemprop=\"datePublished\">3 октября 2025, 11:14</time><meta content=\"2025-10-03\" itemprop=\"dateModified\"/><a class=\"category\" href=\"https://football24.ru/articles/\" itemprop=\"articleSection\">Статьи</a>\n",
       " <p itemprop=\"description\">Великан пока превосходит звезд «Спартака» и «Динамо».</p>\n",
       " </div>,\n",
       " <div class=\"post\">\n",
       " <h2 itemprop=\"headline\"><a class=\"nav-ajax\" href=\"https://football24.ru/articles/264302-chto-vy-propustili-v-5-m-ture-kubka-karusel-spartaka-u-krasnodara-novyj-safonov-ignatov-vozrodilsja.html\">Что вы пропустили в Кубке: карусель «Спартака», у «Краснодара» – новый Сафонов, Игнатов возродился</a></h2>\n",
       " <time datetime=\"2025-10-02T04:34\" itemprop=\"datePublished\">2 октября 2025, 04:34</time><meta content=\"2025-10-02\" itemprop=\"dateModified\"/><a class=\"category\" href=\"https://football24.ru/articles/\" itemprop=\"articleSection\">Статьи</a>\n",
       " <p itemprop=\"description\">Черчесов сорвался, а у Семака – неожиданная проблема.</p>\n",
       " </div>,\n",
       " <div class=\"post\">\n",
       " <h2 itemprop=\"headline\"><a class=\"nav-ajax\" href=\"https://football24.ru/articles/264207-my-zabyli-dzhordana-a-on-zvezda-v-lige-chempionov-chto-stalo-s-ljubimym-futbolistom-salihovoj.html\">Мы забыли Джордана – а он звезда в Лиге чемпионов. Что стало с любимым футболистом Салиховой?</a></h2>\n",
       " <time datetime=\"2025-10-01T11:00\" itemprop=\"datePublished\">1 октября 2025, 11:00</time><meta content=\"2025-10-01\" itemprop=\"dateModified\"/><a class=\"category\" href=\"https://football24.ru/articles/\" itemprop=\"articleSection\">Статьи</a>\n",
       " <p itemprop=\"description\">Выдавил россиянина и готовится к трансферу в топ-клуб.</p>\n",
       " </div>,\n",
       " <div class=\"post\">\n",
       " <h2 itemprop=\"headline\"><a class=\"nav-ajax\" href=\"https://football24.ru/articles/264106-rejting-trenerov-rpl-pod-ugrozoj-kogo-uvoljat-v-oktjabre.html\">Рейтинг тренеров РПЛ под угрозой. Кого уволят в октябре?</a></h2>\n",
       " <time datetime=\"2025-09-30T12:28\" itemprop=\"datePublished\">30 сентября 2025, 12:28</time><meta content=\"2025-09-30\" itemprop=\"dateModified\"/><a class=\"category\" href=\"https://football24.ru/articles/\" itemprop=\"articleSection\">Статьи</a>\n",
       " <p itemprop=\"description\">Три конкурента Деяна Станковича.</p>\n",
       " </div>,\n",
       " <div class=\"post\">\n",
       " <h2 itemprop=\"headline\"><a class=\"nav-ajax\" href=\"https://football24.ru/articles/263974-glavnye-sobytija-10-go-tura-rpl-novyj-lider-spartaka-krizis-musaeva-zenit-chempion.html\">Главные события 10-го тура РПЛ: новый лидер «Спартака», кризис Мусаева, «Зенит» – чемпион?</a></h2>\n",
       " <time datetime=\"2025-09-29T03:33\" itemprop=\"datePublished\">29 сентября 2025, 03:33</time><meta content=\"2025-09-29\" itemprop=\"dateModified\"/><a class=\"category\" href=\"https://football24.ru/articles/\" itemprop=\"articleSection\">Статьи</a>\n",
       " <p itemprop=\"description\">Бонусы: плюс одна проблема у «Динамо», потухший Дзюба и тонущий Осинькин.</p>\n",
       " </div>,\n",
       " <div class=\"post\">\n",
       " <h2 itemprop=\"headline\"><a class=\"nav-ajax\" href=\"https://football24.ru/articles/263783-vernulsja-chtoby-muchit-shalimov-vorvetsja-v-rpl-s-italjanskim-futbolom.html\">Вернулся, чтобы мучить. Шалимов ворвется в РПЛ с итальянским футболом?</a></h2>\n",
       " <time datetime=\"2025-09-27T10:15\" itemprop=\"datePublished\">27 сентября 2025, 10:15</time><meta content=\"2025-09-27\" itemprop=\"dateModified\"/><a class=\"category\" href=\"https://football24.ru/articles/\" itemprop=\"articleSection\">Статьи</a>\n",
       " <p itemprop=\"description\">Недооцененный сюжет сезона в России.</p>\n",
       " </div>,\n",
       " <div class=\"post\">\n",
       " <h2 itemprop=\"headline\"><a class=\"nav-ajax\" href=\"https://football24.ru/articles/263687-vosem-intrig-10-go-tura-rpl-strannaja-karusel-u-spartaka-zenit-zahodit-na-rekord-baltiku-prigovorili.html\">Восемь интриг 10-го тура РПЛ: странная карусель у «Спартака», «Зенит» заходит на рекорд, «Балтику» приговорили?</a></h2>\n",
       " <time datetime=\"2025-09-26T11:20\" itemprop=\"datePublished\">26 сентября 2025, 11:20</time><meta content=\"2025-09-26\" itemprop=\"dateModified\"/><a class=\"category\" href=\"https://football24.ru/articles/\" itemprop=\"articleSection\">Статьи</a>\n",
       " <p itemprop=\"description\">Черчесов может спровоцировать резонансную отставку.</p>\n",
       " </div>]"
      ]
     },
     "execution_count": 4,
     "metadata": {},
     "output_type": "execute_result"
    }
   ],
   "source": [
    "for post in root.find_all('div', class_='post'):\n",
    "    post.find()"
   ]
  }
 ],
 "metadata": {
  "kernelspec": {
   "display_name": ".venv",
   "language": "python",
   "name": "python3"
  },
  "language_info": {
   "codemirror_mode": {
    "name": "ipython",
    "version": 3
   },
   "file_extension": ".py",
   "mimetype": "text/x-python",
   "name": "python",
   "nbconvert_exporter": "python",
   "pygments_lexer": "ipython3",
   "version": "3.9.6"
  }
 },
 "nbformat": 4,
 "nbformat_minor": 5
}
